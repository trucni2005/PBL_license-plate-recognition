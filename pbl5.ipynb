{
 "cells": [
  {
   "attachments": {},
   "cell_type": "markdown",
   "metadata": {},
   "source": [
    "# import các thư viện"
   ]
  },
  {
   "cell_type": "code",
   "execution_count": 1,
   "metadata": {},
   "outputs": [
    {
     "name": "stderr",
     "output_type": "stream",
     "text": [
      "c:\\Users\\dangt\\AppData\\Local\\Programs\\Python\\Python310\\lib\\site-packages\\tqdm\\auto.py:21: TqdmWarning: IProgress not found. Please update jupyter and ipywidgets. See https://ipywidgets.readthedocs.io/en/stable/user_install.html\n",
      "  from .autonotebook import tqdm as notebook_tqdm\n"
     ]
    }
   ],
   "source": [
    "import cv2\n",
    "import torch\n",
    "import numpy as np\n",
    "from skimage import measure\n",
    "import os\n",
    "import pandas as pd\n"
   ]
  },
  {
   "attachments": {},
   "cell_type": "markdown",
   "metadata": {},
   "source": [
    "# dùng model là yolov5"
   ]
  },
  {
   "cell_type": "code",
   "execution_count": 2,
   "metadata": {},
   "outputs": [
    {
     "name": "stderr",
     "output_type": "stream",
     "text": [
      "Using cache found in C:\\Users\\dangt/.cache\\torch\\hub\\ultralytics_yolov5_master\n",
      "YOLOv5  2023-3-20 Python-3.10.0 torch-1.13.1+cpu CPU\n",
      "\n",
      "Fusing layers... \n",
      "Model summary: 157 layers, 7012822 parameters, 0 gradients, 15.8 GFLOPs\n",
      "Adding AutoShape... \n"
     ]
    }
   ],
   "source": [
    "model = torch.hub.load('ultralytics/yolov5', 'custom', path='weights/best.pt')"
   ]
  },
  {
   "attachments": {},
   "cell_type": "markdown",
   "metadata": {},
   "source": [
    "# hàm xuất ra ma trận nhị phân đặc trưng cho kí tự"
   ]
  },
  {
   "cell_type": "code",
   "execution_count": 3,
   "metadata": {},
   "outputs": [],
   "source": [
    "# Xuất ra ma trận nhị phân ( đen = 0, trắng = 255)\n",
    "def feature(folder_path, file):\n",
    "    binaries = []\n",
    "\n",
    "    for filename in os.listdir(folder_path):\n",
    "        if filename.endswith('.png'):\n",
    "            # Đọc tệp tin ảnh\n",
    "            img = cv2.imread(os.path.join(folder_path, filename), cv2.IMREAD_GRAYSCALE)\n",
    "\n",
    "            # Đổi ảnh sang ma trận nhị phân\n",
    "            ret, binary = cv2.threshold(img, 127, 255, cv2.THRESH_BINARY)\n",
    "\n",
    "            # Thêm ma trận nhị phân vào mảng\n",
    "            binaries.append(binary)\n",
    "        \n",
    "\n",
    "    # Khởi tạo mảng pixel trắng đen có kích thước giống với các ma trận trong binaries với các phần tử được khởi tạo là 0\n",
    "    black_pixels = np.zeros_like(binaries[0])\n",
    "    white_pixels = np.zeros_like(binaries[0])\n",
    "    \n",
    "    # Tính toán số lượng pixel màu đen và màu trắng cho từng pixel trong các ma trận\n",
    "    for binary in binaries:\n",
    "        black_pixels += binary == 0\n",
    "        white_pixels += binary == 255\n",
    "\n",
    "    # So sánh số lượng pixel màu đen và màu trắng để quyết định màu sắc cuối cùng của pixel trong ma trận đặc trưng\n",
    "    feature = np.zeros_like(binaries[0], dtype=np.uint8)\n",
    "    for i in range(feature.shape[0]):\n",
    "        for j in range(feature.shape[1]):\n",
    "            if black_pixels[i][j] > white_pixels[i][j]:\n",
    "                feature[i][j] = 0\n",
    "            else:\n",
    "                feature[i][j] = 255\n",
    "\n",
    "    # xuất ra ma trận nhị phân đặc trưng, lưu vào tệp trong folder featured\n",
    "    np.savetxt('featured/featured'+file+'.txt', feature, fmt='%d')\n",
    "    return feature"
   ]
  },
  {
   "attachments": {},
   "cell_type": "markdown",
   "metadata": {},
   "source": [
    "# xuất ra ma trận đặc trưng cho tất cả các kí tự"
   ]
  },
  {
   "cell_type": "code",
   "execution_count": 4,
   "metadata": {},
   "outputs": [],
   "source": [
    "features = []\n",
    "folder_path = \"char/\"\n",
    "files = os.listdir(folder_path)\n",
    "for file in files:\n",
    "    if os.path.isdir(os.path.join(folder_path, file)):\n",
    "        folder_path_ii = os.path.join(folder_path, file)\n",
    "        features.append(feature(folder_path_ii, file))"
   ]
  },
  {
   "attachments": {},
   "cell_type": "markdown",
   "metadata": {},
   "source": [
    "# so sánh để đưa ra kết luận"
   ]
  },
  {
   "cell_type": "code",
   "execution_count": 5,
   "metadata": {},
   "outputs": [],
   "source": [
    "def predict(binary, number):\n",
    "    n = 0\n",
    "    max = 0\n",
    "    i = 0\n",
    "\n",
    "    # number == 1: kí tự đang đọc là kí tự chữ số\n",
    "    if (number == 1):\n",
    "\n",
    "        # Đọc từ 0 đến 9\n",
    "        for i in range (10):\n",
    "\n",
    "            # Tính số pixel giống nhau của chữ số cần dự đoán và đặc trưng của các chữ số\n",
    "            matching_pixels = np.sum(binary == features[i])\n",
    "            total_pixels = binary.shape[0] * binary.shape[1]\n",
    "\n",
    "            # Tính % giống nhau bằng cách lấy số pixel giống nhau / tổng số pixel * 100\n",
    "            matching_percentage = matching_pixels / total_pixels * 100\n",
    "\n",
    "            # Lấy max = tỉ lệ khớp nhất của chữ số cần dự đoán với các chữ số đặc trưng, n là chữ số được dự đoán\n",
    "            if (matching_percentage>max): \n",
    "                n = i\n",
    "                max = matching_percentage\n",
    "\n",
    "    # number == 0: kí tự đang đọc là kí tự chữ cái\n",
    "    else:\n",
    "\n",
    "        # Nếu không phải chữ số thì đọc các feature chữ cái\n",
    "        for i in range(10, len(features)):\n",
    "            matching_pixels = np.sum(binary == features[i])\n",
    "            total_pixels = binary.shape[0] * binary.shape[1]\n",
    "            matching_percentage = matching_pixels / total_pixels * 100\n",
    "            if (matching_percentage>max): \n",
    "                n = i\n",
    "                max = matching_percentage\n",
    "    # print(n,max)\n",
    "    if (n == 7 and max < 65): \n",
    "        n = 1\n",
    "    return n, max"
   ]
  },
  {
   "attachments": {},
   "cell_type": "markdown",
   "metadata": {},
   "source": [
    "# đọc ký tự trên biển số xe"
   ]
  },
  {
   "cell_type": "code",
   "execution_count": 13,
   "metadata": {},
   "outputs": [],
   "source": [
    "def readPlate(image, model):\n",
    "\n",
    "    image = cv2.cvtColor(image, cv2.COLOR_BGR2RGB)\n",
    "    results = model(image)\n",
    "\n",
    "    for i, det in enumerate(results.xyxy[0]):\n",
    "        # Lấy tọa độ bbox của vật thể thứ i\n",
    "        bbox = det[0:4].cpu().numpy()\n",
    "\n",
    "        # Cắt lấy vùng ảnh nằm trong bbox\n",
    "        cropped_image = image[int(bbox[1]):int(bbox[3]), int(bbox[0]):int(bbox[2])]\n",
    "        cropped_image = cv2.resize(cropped_image, (256, 100))\n",
    "        # Chuyển ảnh sang đen trắng\n",
    "        gray = cv2.cvtColor(cropped_image, cv2.COLOR_BGR2GRAY)\n",
    "        # blurred = cv2.GaussianBlur(gray, (5, 5), 0)\n",
    "        # edges = cv2.Canny(blurred, threshold1=30, threshold2=100)\n",
    "        # edges = cv2.bitwise_not(edges)\n",
    "        \n",
    "        # Sử dụng hàm connectedComponents để tìm các vùng kết nối trên ảnh nhị phân\n",
    "        _, binary = cv2.threshold(gray, 0, 255, cv2.THRESH_BINARY_INV+cv2.THRESH_OTSU)\n",
    "        num_labels, labels = cv2.connectedComponents(binary)\n",
    "        # cv2.imshow(\"Binary\",binary)\n",
    "        # cv2.waitKey()\n",
    "        # cv2.destroyAllWindows()\n",
    "\n",
    "        # Hiển thị số lượng các labels tìm được\n",
    "\n",
    "        d = 0\n",
    "        # Sử dụng hàm connectedComponentsWithStats để tính toán diện tích của các vùng kết nối\n",
    "        num_labels, labels, stats, centroids = cv2.connectedComponentsWithStats(binary)\n",
    "        for i in range(num_labels):\n",
    "            area = stats[i, cv2.CC_STAT_AREA]\n",
    "            if area < 100 or area > 1500:\n",
    "                labels[labels == i] = 0\n",
    "            else: \n",
    "                d = d+1\n",
    "        \n",
    "        x_centroids = centroids[:, 0] # Lấy tất cả các hàng, cột đầu tiên (tương ứng với tọa độ x)\n",
    "        \n",
    "        xx = []\n",
    "        # Lặp qua các nhãn\n",
    "        if (d > 5):\n",
    "            for i in range(1, num_labels):\n",
    "            # Lấy thông tin của nhãn hiện tại\n",
    "                x, y, w, h, area = stats[i]\n",
    "\n",
    "            # Nếu diện tích của nhãn nằm trong khoảng từ 100 đến 1500\n",
    "                if 100 < area < 1500:\n",
    "                # Cắt ảnh của nhãn hiện tại từ ảnh gốc\n",
    "                    digit_img = binary[y:y+h, x:x+w]\n",
    "                    digit_img = cv2.resize(digit_img, (25,60))\n",
    "                    xx.append((x_centroids[i], digit_img))         \n",
    "        else:\n",
    "            return \"0\"\n",
    "\n",
    "        sorted_list = sorted(xx, key=lambda x: x[0])\n",
    "\n",
    "        predicted = []\n",
    "        delete = 0\n",
    "        if (len(sorted_list) > 8):\n",
    "            # print(len(sorted_list))\n",
    "            delete = len(sorted_list) - 8\n",
    "            # # Sắp xếp danh sách predicted theo độ chính xác giảm dần\n",
    "\n",
    "        # print(delete)\n",
    "        num = []\n",
    "        for i in range(len(sorted_list)):\n",
    "            x, value = sorted_list[i]\n",
    "            predicted.append((i, predict(value, 1), predict(value, 0)))\n",
    "        \n",
    "        predicted = sorted(predicted, key=lambda x: x[1][1], reverse=True)\n",
    "        predicted_string = \"\"\n",
    "        # print(predicted)\n",
    "        j = 0\n",
    "        lst = [list(item) for item in predicted]\n",
    "        # print(delete)\n",
    "        # check = 0\n",
    "        for i in reversed(range(len(predicted))):\n",
    "            # print(predicted[i])\n",
    "            # print(lst[i])\n",
    "            if (j == delete):\n",
    "                break\n",
    "            if (lst[i][0] < 2):\n",
    "                lst.remove(lst[i])\n",
    "                # for k in range(len(lst)):\n",
    "                #     if (lst[k][0] >= 2):\n",
    "                #         lst[k][0] = lst[k][0] - 1\n",
    "                j = j + 1\n",
    "            elif (lst[i][0] > (2+ delete)):\n",
    "                lst.remove(lst[i])\n",
    "                j = j + 1\n",
    "            else:\n",
    "                # print(\"123\")\n",
    "                if (lst[i][2][1] >= 65):\n",
    "                    lst.remove(lst[i-1])\n",
    "                    j = j + 1\n",
    "                else:\n",
    "                    lst.remove(lst[i])\n",
    "                    j = j + 1\n",
    "        # print(lst)\n",
    "\n",
    "        predicted = [tuple(item) for item in lst] # chuyển lại thành tuple\n",
    "        i = 0\n",
    "        for item in sorted(lst, key=lambda x: x[0]):\n",
    "            i = i + 1\n",
    "            # print(item)\n",
    "            if (i != 3):\n",
    "                predicted_string += str(item[1][0])\n",
    "            else:\n",
    "                if (item[2][0] == 10):\n",
    "                    predicted_string += \"A\"\n",
    "                if (item[2][0] == 11):\n",
    "                    predicted_string += \"B\"\n",
    "                if (item[2][0] == 12):\n",
    "                    predicted_string += \"C\"\n",
    "                if (item[2][0] == 13):\n",
    "                    predicted_string += \"D\"\n",
    "                if (item[2][0] == 14):\n",
    "                    predicted_string += \"F\"\n",
    "                if (item[2][0] == 15):\n",
    "                    predicted_string += \"G\"\n",
    "                if (item[2][0] == 16):\n",
    "                    predicted_string += \"L\"\n",
    "                if (item[2][0] == 17):\n",
    "                    predicted_string += \"N\"\n",
    "                if (item[2][0] == 18):\n",
    "                    predicted_string += \"S\"\n",
    "                if (item[2][0] == 19):\n",
    "                    predicted_string += \"V\"\n",
    "                if (item[2][0] == 20):\n",
    "                    predicted_string += \"Y\"\n",
    "                if (item[2][0] == 21):\n",
    "                    predicted_string += \"Z\"\n",
    "        # print(predicted_string)\n",
    "        return predicted_string"
   ]
  },
  {
   "attachments": {},
   "cell_type": "markdown",
   "metadata": {},
   "source": [
    "# Test những biển số sai sót"
   ]
  },
  {
   "cell_type": "code",
   "execution_count": 14,
   "metadata": {},
   "outputs": [
    {
     "data": {
      "text/plain": [
       "'30V39931'"
      ]
     },
     "execution_count": 14,
     "metadata": {},
     "output_type": "execute_result"
    }
   ],
   "source": [
    "img = cv2.imread(\"car_long/782.jpg\") # đọc ảnh bằng OpenCV\n",
    "readPlate(img, model)"
   ]
  },
  {
   "attachments": {},
   "cell_type": "markdown",
   "metadata": {},
   "source": [
    "# xuất ra file csv kết quả kiểm thử hình ảnh trong tập kiểm thử"
   ]
  },
  {
   "cell_type": "code",
   "execution_count": 15,
   "metadata": {},
   "outputs": [],
   "source": [
    "folder_path = \"car_long/\" # đường dẫn đến folder chứa ảnh\n",
    "\n",
    "pre_final = []\n",
    "for filename in os.listdir(folder_path):\n",
    "    if filename.endswith(\".jpg\") or filename.endswith(\".png\"): \n",
    "        # kiểm tra xem file có phải là ảnh jpg hoặc png không\n",
    "        file_path = os.path.join(folder_path, filename)\n",
    "        img = cv2.imread(file_path) # đọc ảnh bằng OpenCV\n",
    "        # sử dụng ảnh tại đây\n",
    "        name, extension = os.path.splitext(filename) # Tách phần đuôi của tên tệp\n",
    "        pre_final.append((name, readPlate(img, model)))\n",
    "\n",
    "# Tạo DataFrame từ mảng\n",
    "df = pd.DataFrame(pre_final, columns=['Image', 'Predicted'])\n",
    "\n",
    "# Xuất ra file CSV\n",
    "df.to_csv('predicted_output.csv', index=False)\n"
   ]
  },
  {
   "attachments": {},
   "cell_type": "markdown",
   "metadata": {},
   "source": [
    "# đọc video kiểm thử "
   ]
  },
  {
   "cell_type": "code",
   "execution_count": 9,
   "metadata": {},
   "outputs": [],
   "source": [
    "# # Tạo một đối tượng VideoCapture để đọc video\n",
    "# cap = cv2.VideoCapture('test.MOV')\n",
    "\n",
    "# # Lấy kích thước khung hình của video\n",
    "# width = int(cap.get(cv2.CAP_PROP_FRAME_WIDTH))\n",
    "# height = int(cap.get(cv2.CAP_PROP_FRAME_HEIGHT))\n",
    "\n",
    "# # Tạo đối tượng VideoWriter để ghi video\n",
    "# fourcc = cv2.VideoWriter_fourcc(*'mp4v')\n",
    "# out = cv2.VideoWriter('processed_video.mp4', fourcc, 30, (width, height))\n",
    "# # Đọc từng khung hình của video, xử lý và ghi lại\n",
    "# result_s = ''\n",
    "# read = 0\n",
    "\n",
    "# with open(\"license_plates_history.txt\", \"w\") as file:\n",
    "#     file.write('')\n",
    "\n",
    "# while True:\n",
    "#     ret, frame = cap.read()\n",
    "#     if not ret:\n",
    "#         break\n",
    "#     # Xử lý khung hình ở đây\n",
    "#     processed_frame = cv2.cvtColor(frame, cv2.COLOR_BGR2RGB)\n",
    "#     results = model(processed_frame)\n",
    "    \n",
    "#     if len(results.pred[0]) >= 1:\n",
    "#         if (results.pred[0][0][0].item() <= 0.5):\n",
    "#             read = 0\n",
    "#         for i in range (len(results.pred[0])):\n",
    "#             accuracy = float(results.pred[0][i][4].item())\n",
    "#             if (accuracy >= 0.95 and results.pred[0][i][0].item() <= width/2 and read == 0):\n",
    "#                 if (len(readPlate(processed_frame,model)) >= 7 and len(readPlate(processed_frame,model)) <= 8):\n",
    "#                     result_s = readPlate(processed_frame,model)\n",
    "#                     read = 1\n",
    "#                     with open('license_plates_history.txt', 'a') as file:\n",
    "#                         file.write(result_s + '\\n')\n",
    "#     # Vẽ chuỗi result_s lên khung hình results\n",
    "#     cv2.putText(results.render()[0], result_s, (50, 50), cv2.FONT_HERSHEY_SIMPLEX, 1, (0, 255, 0), 2)\n",
    "#     # Ghi khung hình đã xử lý vào đối tượng VideoWriter\n",
    "#     out.write(cv2.cvtColor(results.render()[0], cv2.COLOR_RGB2BGR))\n",
    "\n",
    "#     # # Hiển thị khung hình đã xử lý\n",
    "#     cv2.imshow('Processed Frame', cv2.cvtColor(results.render()[0], cv2.COLOR_RGB2BGR))\n",
    "#     if cv2.waitKey(1) == ord('q'):\n",
    "#         break\n",
    "\n",
    "# # Giải phóng các tài nguyên và đóng các cửa sổ hiển thị\n",
    "# out.release()\n",
    "# cv2.destroyAllWindows()"
   ]
  },
  {
   "cell_type": "code",
   "execution_count": 16,
   "metadata": {},
   "outputs": [],
   "source": [
    "\n",
    "# Đọc file CSV vào DataFrame\n",
    "df = pd.read_csv('predicted_output.csv')\n",
    "\n",
    "# Sắp xếp DataFrame theo cột số\n",
    "df_sorted = df.sort_values(by='Image', ascending=True)\n",
    "\n",
    "# Lưu lại kết quả vào file CSV\n",
    "df_sorted.to_csv('predicted_output.csv', index=False)"
   ]
  },
  {
   "cell_type": "code",
   "execution_count": 17,
   "metadata": {},
   "outputs": [],
   "source": [
    "# Đọc hai file CSV và lưu chúng vào hai DataFrame\n",
    "df1 = pd.read_csv('predicted_output.csv')\n",
    "df2 = pd.read_csv('true_output.csv')\n",
    "\n",
    "# Kết hợp hai DataFrame và lấy các cột cần thiết\n",
    "merged_df = pd.merge(df1[['Image', 'Predicted']], df2[['Image', 'True']], on='Image')\n",
    "\n",
    "merged_df['Diff'] = merged_df.apply(lambda row: 0 if row['Predicted'] == row['True'] else 1, axis=1)\n",
    "\n",
    "# Thêm cột Predict dựa trên giá trị của cột thứ 2\n",
    "merged_df['Predict'] = merged_df['Predicted'].apply(lambda x: 0 if x == \"0\" else 1)\n",
    "\n",
    "merged_df['Miss'] = merged_df.apply(lambda row: 1 if len(row['Predicted']) - len(row['True']) != 0 else 0, axis=1)\n",
    "\n",
    "# Lưu các cột vào file CSV\n",
    "merged_df.to_csv('Evaluate.csv', index=False)\n",
    "\n"
   ]
  },
  {
   "cell_type": "code",
   "execution_count": 19,
   "metadata": {},
   "outputs": [
    {
     "name": "stdout",
     "output_type": "stream",
     "text": [
      "Số ảnh kiểm thử:  474\n",
      "Tỉ lệ không thể nhận diện biển số: 1.27%\n",
      "Tỉ lệ đọc sai biển số: 4.64%\n",
      "Tỉ lệ đọc thiếu chữ số: 3.16%\n",
      "Tỉ lệ biển số đọc đúng: 92.19%\n",
      "     Image Predicted      True  Diff  Predict  Miss\n",
      "30     509  51A89711  51A89714     1        1     0\n",
      "34     554    54Y210  54A72110     1        1     1\n",
      "35     555         0  54A72110     1        0     1\n",
      "42     647  51F24483  51F24403     1        1     0\n",
      "52     782  30V39931   30V3993     1        1     1\n",
      "53     783  30V39931   30V3993     1        1     1\n",
      "67    1961         0  51A85325     1        0     1\n",
      "119   3820  51B21666  51D21666     1        1     0\n",
      "124   3843  51A96141  51A91614     1        1     0\n",
      "143   5347  51G25182  51G25181     1        1     0\n",
      "183   6897    51Z210  51A72110     1        1     1\n",
      "185   6905  51A19642  51A96141     1        1     0\n",
      "197   7078  28A51796  29A51796     1        1     0\n",
      "206   7214   15A5380  51F15380     1        1     1\n",
      "207   7215   15A5381  51F15380     1        1     1\n",
      "234   8814  51F09881  51F59881     1        1     0\n",
      "235   8815  51F54988  51F59881     1        1     0\n",
      "246   8967  51D30343  51F63034     1        1     0\n",
      "253   9049         0  51A72110     1        0     1\n",
      "255   9057  51A91614  51A96141     1        1     0\n",
      "257   9059  51A96142  51A96141     1        1     0\n",
      "291   9834  31A41711  51F58214     1        1     0\n",
      "317  11278  48A02666  48A02866     1        1     0\n",
      "318  11279  48A02868  48A02866     1        1     0\n",
      "323  11509  43A18850  43A18650     1        1     0\n",
      "326  11664  41A08546  41A06546     1        1     0\n",
      "327  11665  41A08548  41A06546     1        1     0\n",
      "335  12265  55Z16490   52Y6490     1        1     1\n",
      "338  12311  51A91614  51A96141     1        1     0\n",
      "362  13621  48A05277  48A05177     1        1     0\n",
      "375  13797   61Z2959  61A22959     1        1     1\n",
      "379  13869   51A7210  51A72110     1        1     1\n",
      "444  17470         0  51A72110     1        0     1\n",
      "454  17653  51F25585  51F15585     1        1     0\n",
      "468  18843  56D65321  51F06532     1        1     0\n",
      "469  18976         0  51A85325     1        0     1\n",
      "470  18979         0  51A85325     1        0     1\n"
     ]
    }
   ],
   "source": [
    "# Đọc file CSV vào DataFrame\n",
    "merged_df = pd.read_csv('Evaluate.csv')\n",
    "\n",
    "zero_Predict_ratio = (merged_df['Predict'] == 0).sum() / len(merged_df) * 100\n",
    "miss_Predict_ratio = (merged_df['Miss'] == 1).sum()/ len(merged_df) * 100\n",
    "right_Predict_ratio = 100 - ((merged_df['Diff'] == 1).sum()) / len(merged_df) * 100\n",
    "wrong_Predict = (merged_df['Diff'] == 1).sum()- (merged_df['Predict'] == 0 - (merged_df['Miss'] == 1).sum()).sum()\n",
    "wrong_Predict_ratio = wrong_Predict / len(merged_df) * 100\n",
    "\n",
    "print(\"Số ảnh kiểm thử: \", len(merged_df))\n",
    "print(\"Tỉ lệ không thể nhận diện biển số: {:.2f}%\".format(zero_Predict_ratio))\n",
    "print(\"Tỉ lệ đọc sai biển số: {:.2f}%\".format(wrong_Predict_ratio- miss_Predict_ratio))\n",
    "print(\"Tỉ lệ đọc thiếu chữ số: {:.2f}%\".format(miss_Predict_ratio))\n",
    "print(\"Tỉ lệ biển số đọc đúng: {:.2f}%\".format(right_Predict_ratio))\n",
    "\n",
    "mask = (merged_df['Diff'] == 1)\n",
    "df_filtered = merged_df.loc[mask]\n",
    "print(df_filtered)"
   ]
  }
 ],
 "metadata": {
  "kernelspec": {
   "display_name": "Python 3",
   "language": "python",
   "name": "python3"
  },
  "language_info": {
   "codemirror_mode": {
    "name": "ipython",
    "version": 3
   },
   "file_extension": ".py",
   "mimetype": "text/x-python",
   "name": "python",
   "nbconvert_exporter": "python",
   "pygments_lexer": "ipython3",
   "version": "3.10.0"
  },
  "orig_nbformat": 4
 },
 "nbformat": 4,
 "nbformat_minor": 2
}
