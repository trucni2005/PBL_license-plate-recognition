{
 "cells": [
  {
   "cell_type": "code",
   "execution_count": 1,
   "metadata": {},
   "outputs": [
    {
     "name": "stderr",
     "output_type": "stream",
     "text": [
      "c:\\Users\\dangt\\AppData\\Local\\Programs\\Python\\Python310\\lib\\site-packages\\tqdm\\auto.py:21: TqdmWarning: IProgress not found. Please update jupyter and ipywidgets. See https://ipywidgets.readthedocs.io/en/stable/user_install.html\n",
      "  from .autonotebook import tqdm as notebook_tqdm\n"
     ]
    }
   ],
   "source": [
    "import cv2\n",
    "import torch\n",
    "import numpy as np\n",
    "from skimage import measure\n",
    "import os\n",
    "import pandas as pd"
   ]
  },
  {
   "cell_type": "code",
   "execution_count": 2,
   "metadata": {},
   "outputs": [
    {
     "name": "stderr",
     "output_type": "stream",
     "text": [
      "Using cache found in C:\\Users\\dangt/.cache\\torch\\hub\\ultralytics_yolov5_master\n",
      "YOLOv5  2023-3-20 Python-3.10.0 torch-1.13.1+cpu CPU\n",
      "\n",
      "Fusing layers... \n",
      "Model summary: 157 layers, 7012822 parameters, 0 gradients, 15.8 GFLOPs\n",
      "Adding AutoShape... \n"
     ]
    }
   ],
   "source": [
    "model = torch.hub.load('ultralytics/yolov5', 'custom', path='weights/best.pt')"
   ]
  },
  {
   "cell_type": "code",
   "execution_count": 4,
   "metadata": {},
   "outputs": [],
   "source": [
    "# Load the image and resize it\n",
    "image = cv2.imread(\"yellow_license_plate/8.jpg\")\n",
    "image = cv2.resize(image, (640, 640))\n",
    "\n",
    "# Detect objects in the image\n",
    "results = model(image)\n",
    "\n",
    "for i, det in enumerate(results.xyxy[0]):\n",
    "        # Lấy tọa độ bbox của vật thể thứ i\n",
    "        bbox = det[0:4].cpu().numpy()\n",
    "\n",
    "        # Cắt lấy vùng ảnh nằm trong bbox\n",
    "        cropped_image = image[int(bbox[1]):int(bbox[3]), int(bbox[0]):int(bbox[2])]\n",
    "        cropped_image = cv2.resize(cropped_image, (256, 100))\n",
    "        # Chuyển ảnh sang đen trắng\n",
    "        gray = cv2.cvtColor(cropped_image, cv2.COLOR_BGR2GRAY)\n",
    "        blurred = cv2.GaussianBlur(gray, (5, 5), 0)\n",
    "        edges = cv2.Canny(blurred, threshold1=30, threshold2=100)\n",
    "        edges = cv2.bitwise_not(edges)\n",
    "\n",
    "        # Sử dụng hàm connectedComponents để tìm các vùng kết nối trên ảnh nhị phân\n",
    "        _, binary = cv2.threshold(gray, 0, 255, cv2.THRESH_BINARY_INV+cv2.THRESH_OTSU)\n",
    "        num_labels, labels = cv2.connectedComponents(binary)\n",
    "\n",
    "        # Sử dụng hàm connectedComponentsWithStats để tính toán diện tích của các vùng kết nối\n",
    "        num_labels, labels, stats, centroids = cv2.connectedComponentsWithStats(binary)\n",
    "        for i in range(num_labels):\n",
    "            x, y, w, h, area = stats[i]\n",
    "            if 90 < area < 1500:\n",
    "                digit_img = binary[y:y+h, x:x+w]\n",
    "                digit_img = cv2.resize(digit_img, (25,60))\n",
    "                cv2.imshow(\"DIGIT\", digit_img)\n",
    "                cv2.waitKey()\n",
    "                cv2.destroyAllWindows()"
   ]
  },
  {
   "cell_type": "code",
   "execution_count": 6,
   "metadata": {},
   "outputs": [],
   "source": [
    "def readPlate(image, model):\n",
    "\n",
    "    image = cv2.cvtColor(image, cv2.COLOR_BGR2RGB)\n",
    "    results = model(image)\n",
    "\n",
    "    for i, det in enumerate(results.xyxy[0]):\n",
    "        # Lấy tọa độ bbox của vật thể thứ i\n",
    "        bbox = det[0:4].cpu().numpy()\n",
    "\n",
    "        # Cắt lấy vùng ảnh nằm trong bbox\n",
    "        cropped_image = image[int(bbox[1]):int(bbox[3]), int(bbox[0]):int(bbox[2])]\n",
    "        cropped_image = cv2.resize(cropped_image, (256, 100))\n",
    "        return((bbox[2]-bbox[0])/(bbox[3]-bbox[1]))"
   ]
  },
  {
   "cell_type": "code",
   "execution_count": 13,
   "metadata": {},
   "outputs": [],
   "source": [
    "folder_path = \"car_long/\" # đường dẫn đến folder chứa ảnh\n",
    "\n",
    "ratio1 = []\n",
    "for filename in os.listdir(folder_path):\n",
    "    if filename.endswith(\".jpg\") or filename.endswith(\".png\"): \n",
    "        # kiểm tra xem file có phải là ảnh jpg hoặc png không\n",
    "        file_path = os.path.join(folder_path, filename)\n",
    "        img = cv2.imread(file_path) # đọc ảnh bằng OpenCV\n",
    "        # sử dụng ảnh tại đây\n",
    "        name, extension = os.path.splitext(filename) # Tách phần đuôi của tên tệp\n",
    "        ratio1.append(readPlate(img, model))"
   ]
  },
  {
   "cell_type": "code",
   "execution_count": 14,
   "metadata": {},
   "outputs": [],
   "source": [
    "folder_path = \"yellow_license_plate/\" # đường dẫn đến folder chứa ảnh\n",
    "\n",
    "ratio = []\n",
    "for filename in os.listdir(folder_path):\n",
    "    if filename.endswith(\".jpg\") or filename.endswith(\".png\"): \n",
    "        # kiểm tra xem file có phải là ảnh jpg hoặc png không\n",
    "        file_path = os.path.join(folder_path, filename)\n",
    "        img = cv2.imread(file_path) # đọc ảnh bằng OpenCV\n",
    "        # sử dụng ảnh tại đây\n",
    "        name, extension = os.path.splitext(filename) # Tách phần đuôi của tên tệp\n",
    "        ratio.append(readPlate(img, model))"
   ]
  },
  {
   "cell_type": "code",
   "execution_count": 15,
   "metadata": {},
   "outputs": [
    {
     "name": "stdout",
     "output_type": "stream",
     "text": [
      "2.4642847\n"
     ]
    }
   ],
   "source": [
    "print(ratio1)\n",
    "smallest_ratio = min(ratio1)\n",
    "print(smallest_ratio)\n",
    "\n",
    "# # Tạo DataFrame từ mảng\n",
    "# df = pd.DataFrame(pre_final, columns=['Image', 'Predicted'])\n",
    "\n",
    "# # Xuất ra file CSV\n",
    "# df.to_csv('predicted_output.csv', index=False)"
   ]
  },
  {
   "cell_type": "code",
   "execution_count": 16,
   "metadata": {},
   "outputs": [
    {
     "name": "stdout",
     "output_type": "stream",
     "text": [
      "3.2667127\n"
     ]
    }
   ],
   "source": [
    "print(ratio)\n",
    "bigest_ratio = max(ratio)\n",
    "print(bigest_ratio)\n"
   ]
  }
 ],
 "metadata": {
  "kernelspec": {
   "display_name": "Python 3",
   "language": "python",
   "name": "python3"
  },
  "language_info": {
   "codemirror_mode": {
    "name": "ipython",
    "version": 3
   },
   "file_extension": ".py",
   "mimetype": "text/x-python",
   "name": "python",
   "nbconvert_exporter": "python",
   "pygments_lexer": "ipython3",
   "version": "3.10.0"
  },
  "orig_nbformat": 4,
  "vscode": {
   "interpreter": {
    "hash": "d3873cd2ef03e533f5459bd62292e7d26e379cc846364ad23d69555a2118848c"
   }
  }
 },
 "nbformat": 4,
 "nbformat_minor": 2
}
