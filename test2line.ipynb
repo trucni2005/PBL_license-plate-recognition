{
 "cells": [
  {
   "cell_type": "code",
   "execution_count": 1,
   "metadata": {},
   "outputs": [
    {
     "name": "stderr",
     "output_type": "stream",
     "text": [
      "c:\\Users\\dangt\\AppData\\Local\\Programs\\Python\\Python310\\lib\\site-packages\\tqdm\\auto.py:21: TqdmWarning: IProgress not found. Please update jupyter and ipywidgets. See https://ipywidgets.readthedocs.io/en/stable/user_install.html\n",
      "  from .autonotebook import tqdm as notebook_tqdm\n"
     ]
    }
   ],
   "source": [
    "import cv2\n",
    "import torch\n",
    "import numpy as np\n",
    "from skimage import measure\n",
    "import os\n",
    "import pandas as pd"
   ]
  },
  {
   "cell_type": "code",
   "execution_count": 2,
   "metadata": {},
   "outputs": [
    {
     "name": "stderr",
     "output_type": "stream",
     "text": [
      "Using cache found in C:\\Users\\dangt/.cache\\torch\\hub\\ultralytics_yolov5_master\n",
      "YOLOv5  2023-3-20 Python-3.10.0 torch-1.13.1+cpu CPU\n",
      "\n",
      "Fusing layers... \n",
      "Model summary: 157 layers, 7012822 parameters, 0 gradients, 15.8 GFLOPs\n",
      "Adding AutoShape... \n"
     ]
    }
   ],
   "source": [
    "model = torch.hub.load('ultralytics/yolov5', 'custom', path='weights/best.pt')"
   ]
  },
  {
   "cell_type": "code",
   "execution_count": 7,
   "metadata": {},
   "outputs": [],
   "source": [
    "# Load the image and resize it\n",
    "image = cv2.imread(\"yellow_license_plate/11.jpg\")\n",
    "image = cv2.resize(image, (640, 640))\n",
    "\n",
    "# Detect objects in the image\n",
    "results = model(image)\n",
    "\n",
    "for i, det in enumerate(results.xyxy[0]):\n",
    "        # Lấy tọa độ bbox của vật thể thứ i\n",
    "        bbox = det[0:4].cpu().numpy()\n",
    "\n",
    "        # Cắt lấy vùng ảnh nằm trong bbox\n",
    "        cropped_image = image[int(bbox[1]):int(bbox[3]), int(bbox[0]):int(bbox[2])]\n",
    "        cropped_image = cv2.resize(cropped_image, (256, 100))\n",
    "        # Chuyển ảnh sang đen trắng\n",
    "        gray = cv2.cvtColor(cropped_image, cv2.COLOR_BGR2GRAY)\n",
    "        blurred = cv2.GaussianBlur(gray, (5, 5), 0)\n",
    "        edges = cv2.Canny(blurred, threshold1=30, threshold2=100)\n",
    "        edges = cv2.bitwise_not(edges)\n",
    "\n",
    "        # Sử dụng hàm connectedComponents để tìm các vùng kết nối trên ảnh nhị phân\n",
    "        _, binary = cv2.threshold(gray, 0, 255, cv2.THRESH_BINARY_INV+cv2.THRESH_OTSU)\n",
    "        num_labels, labels = cv2.connectedComponents(binary)\n",
    "\n",
    "        # Sử dụng hàm connectedComponentsWithStats để tính toán diện tích của các vùng kết nối\n",
    "        num_labels, labels, stats, centroids = cv2.connectedComponentsWithStats(binary)\n",
    "        for i in range(num_labels):\n",
    "            x, y, w, h, area = stats[i]\n",
    "            if 100 < area < 1500:\n",
    "                digit_img = binary[y:y+h, x:x+w]\n",
    "                digit_img = cv2.resize(digit_img, (25,60))\n",
    "                cv2.imshow(\"DIGIT\", digit_img)\n",
    "                cv2.waitKey()\n",
    "                cv2.destroyAllWindows()"
   ]
  }
 ],
 "metadata": {
  "kernelspec": {
   "display_name": "Python 3",
   "language": "python",
   "name": "python3"
  },
  "language_info": {
   "codemirror_mode": {
    "name": "ipython",
    "version": 3
   },
   "file_extension": ".py",
   "mimetype": "text/x-python",
   "name": "python",
   "nbconvert_exporter": "python",
   "pygments_lexer": "ipython3",
   "version": "3.10.0"
  },
  "orig_nbformat": 4
 },
 "nbformat": 4,
 "nbformat_minor": 2
}
